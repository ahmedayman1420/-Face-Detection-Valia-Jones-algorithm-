{
 "cells": [
  {
   "cell_type": "code",
   "execution_count": 1,
   "metadata": {},
   "outputs": [],
   "source": [
    "# ////////////// <========> Import Libraries <========> ////////////// #\n",
    "\n",
    "import cv2 as cv\n",
    "import numpy as np \n",
    "from enum import Enum\n",
    "from skimage.color import rgb2gray\n",
    "from commonfunctions import *\n",
    "from skimage.filters import gaussian\n",
    "from skimage.exposure import adjust_gamma\n",
    "from haar_features import *\n",
    "from intagral_image import *\n",
    "from cartoonization import *\n",
    "from skimage.transform import resize\n",
    "\n",
    "# //////// <====> End <====> //////// #"
   ]
  },
  {
   "cell_type": "code",
   "execution_count": 2,
   "metadata": {},
   "outputs": [],
   "source": [
    "# //////// reads the result of adaboost training and assigns it to list of haar classifiers //////// #\n",
    "def readClassifiers():\n",
    "    f = open(\"classifiersData.txt\", \"r\")\n",
    "    f = f.readlines()\n",
    "    features=[]\n",
    "    f = [line.strip() for line in f]\n",
    "    for i in range(0,len(f),7):\n",
    "        feature=HaarLikesFeatures(HaarFeaturesType[f[i]], (int(f[i+1]),int(f[i+2])), int(f[i+3]), int(f[i+4]), int(f[i+5]), int(f[i+6]))\n",
    "        features.append(feature)\n",
    "    return features\n",
    "classifiers = readClassifiers()"
   ]
  },
  {
   "cell_type": "code",
   "execution_count": 3,
   "metadata": {},
   "outputs": [],
   "source": [
    "# //////// return 1 if image is a face and 0 otherwise //////// #\n",
    "def imageIsFace(image):\n",
    "    return 1 if sum([c.vote(image) for c in classifiers[0:10]])  >= 5 and sum([c.vote(image) for c in classifiers[11:20]])  >= 3 and sum([c.vote(image) for c in classifiers[21:30]])  >= 3  else 0"
   ]
  },
  {
   "cell_type": "code",
   "execution_count": 4,
   "metadata": {},
   "outputs": [],
   "source": [
    "# //////// cartoonize an image in a give range //////// #\n",
    "def applyCartoonization(frame,x,y,h):\n",
    "    # frame is the image\n",
    "    # x is x start for the range\n",
    "    # y is y start for the range\n",
    "    # h is the size of the square window\n",
    "    cv.rectangle(frame,(x,y),(x+h,y+h),(255,0,0),3)\n",
    "    window = frame[y:y+h, x:x+h, :]\n",
    "    window = cartoonize(window,21)\n",
    "    frame[y:y+h,x:x+h,:] = window\n",
    "    return frame\n",
    "    "
   ]
  },
  {
   "cell_type": "code",
   "execution_count": 5,
   "metadata": {},
   "outputs": [],
   "source": [
    "# //////// Loops over an image and extract square windows of different sizes [80,100,...200] //////// #\n",
    "# it returns the position of the window if it is a face\n",
    "# it returns -1 if it's not a face\n",
    "def extractWindows(image):\n",
    "    x = image.shape[0]\n",
    "    y = image.shape[1]\n",
    "    for z in range(200,79,-20):\n",
    "        windowSize=z\n",
    "    #extractedWindows=[]\n",
    "        for i in range(0,x-windowSize,20):\n",
    "            for j in range(0,y-windowSize,20):\n",
    "                window = image[i:i+windowSize, j:j+windowSize]\n",
    "                window = resize(window, (25,25))\n",
    "                window =window/ window.max()\n",
    "                integralImg = integral_image(window)\n",
    "                #print(i,j)\n",
    "                isFace = imageIsFace(integralImg)\n",
    "                if isFace == 1:\n",
    "                    return j,i,windowSize\n",
    "                    #extractedWindows.append(window)\n",
    "    return -1,-1,-1"
   ]
  },
  {
   "cell_type": "code",
   "execution_count": 6,
   "metadata": {},
   "outputs": [
    {
     "ename": "error",
     "evalue": "OpenCV(4.5.5) D:\\a\\opencv-python\\opencv-python\\opencv\\modules\\imgproc\\src\\color.cpp:182: error: (-215:Assertion failed) !_src.empty() in function 'cv::cvtColor'\n",
     "output_type": "error",
     "traceback": [
      "\u001b[1;31m---------------------------------------------------------------------------\u001b[0m",
      "\u001b[1;31merror\u001b[0m                                     Traceback (most recent call last)",
      "\u001b[1;32m~\\AppData\\Local\\Temp/ipykernel_18304/3562423877.py\u001b[0m in \u001b[0;36m<module>\u001b[1;34m\u001b[0m\n\u001b[0;32m      2\u001b[0m \u001b[1;33m\u001b[0m\u001b[0m\n\u001b[0;32m      3\u001b[0m \u001b[0mframe\u001b[0m \u001b[1;33m=\u001b[0m \u001b[0mcv\u001b[0m\u001b[1;33m.\u001b[0m\u001b[0mimread\u001b[0m\u001b[1;33m(\u001b[0m\u001b[1;34m'test2.jpg'\u001b[0m\u001b[1;33m)\u001b[0m\u001b[1;33m\u001b[0m\u001b[1;33m\u001b[0m\u001b[0m\n\u001b[1;32m----> 4\u001b[1;33m \u001b[0mframe\u001b[0m\u001b[1;33m=\u001b[0m\u001b[0mcv\u001b[0m\u001b[1;33m.\u001b[0m\u001b[0mcvtColor\u001b[0m\u001b[1;33m(\u001b[0m\u001b[0mframe\u001b[0m\u001b[1;33m,\u001b[0m \u001b[0mcv\u001b[0m\u001b[1;33m.\u001b[0m\u001b[0mCOLOR_BGR2RGB\u001b[0m\u001b[1;33m)\u001b[0m\u001b[1;33m\u001b[0m\u001b[1;33m\u001b[0m\u001b[0m\n\u001b[0m\u001b[0;32m      5\u001b[0m \u001b[1;31m# //// ---> Convert Frame To Gray Scale <--- //// #\u001b[0m\u001b[1;33m\u001b[0m\u001b[1;33m\u001b[0m\u001b[0m\n\u001b[0;32m      6\u001b[0m \u001b[0mgray\u001b[0m \u001b[1;33m=\u001b[0m \u001b[0mcv\u001b[0m\u001b[1;33m.\u001b[0m\u001b[0mcvtColor\u001b[0m\u001b[1;33m(\u001b[0m\u001b[0mframe\u001b[0m\u001b[1;33m,\u001b[0m\u001b[0mcv\u001b[0m\u001b[1;33m.\u001b[0m\u001b[0mCOLOR_RGB2GRAY\u001b[0m\u001b[1;33m)\u001b[0m\u001b[1;33m\u001b[0m\u001b[1;33m\u001b[0m\u001b[0m\n",
      "\u001b[1;31merror\u001b[0m: OpenCV(4.5.5) D:\\a\\opencv-python\\opencv-python\\opencv\\modules\\imgproc\\src\\color.cpp:182: error: (-215:Assertion failed) !_src.empty() in function 'cv::cvtColor'\n"
     ]
    }
   ],
   "source": [
    "# //// ---> Testing for a single image <--- //// #\n",
    "\n",
    "frame = cv.imread('test2.jpg')\n",
    "frame=cv.cvtColor(frame, cv.COLOR_BGR2RGB)\n",
    "# //// ---> Convert Frame To Gray Scale <--- //// #\n",
    "gray = cv.cvtColor(frame,cv.COLOR_RGB2GRAY)\n",
    "# --- End --- #\n",
    "# //// ---> Normalization <--- //// #\n",
    "gray = gray/gray.max()\n",
    "# --- End --- #\n",
    "\n",
    "# --- Gets the window if a face if available --- #\n",
    "x,y,h=extractWindows(gray)\n",
    "if (x != -1):\n",
    "    frame=applyCartoonization(frame, x,y,h)\n",
    "# //// ---> Show Frame <--- //// #\n",
    "show_images([frame])"
   ]
  },
  {
   "cell_type": "markdown",
   "metadata": {},
   "source": [
    "\n",
    "Real time video"
   ]
  },
  {
   "cell_type": "code",
   "execution_count": 9,
   "metadata": {},
   "outputs": [],
   "source": [
    "# ////////////// <========> Run Video <========> ////////////// #\n",
    "\n",
    "cap=cv.VideoCapture(0)\n",
    "while(True):\n",
    "    #read Frames\n",
    "    ret,frame=cap.read()\n",
    "    if(ret==False):\n",
    "        print('no frame')\n",
    "        break\n",
    "    else:\n",
    "        frame=cv.cvtColor(frame, cv.COLOR_BGR2RGB)\n",
    "        # //// ---> Convert Frame To Gray Scale <--- //// #\n",
    "        gray = cv.cvtColor(frame,cv.COLOR_RGB2GRAY)\n",
    "        # --- End --- #\n",
    "         # //// ---> Normalization <--- //// #\n",
    "        gray = gray/gray.max()\n",
    "        # --- End --- #\n",
    "        # //// ---> Apply Gaussian Filter <--- //// #\n",
    "        newGray = gaussian(gray, sigma=1, output=None, mode='nearest')\n",
    "        # --- End --- #\n",
    "        # //// ---> Apply Gamma correction <--- //// #\n",
    "        newGray = adjust_gamma(newGray,gamma=1.5)\n",
    "        # --- End --- #\n",
    "        \n",
    "        # //// ---> Integral Image <--- //// #\n",
    "        #gray=integral_image(newGray)     \n",
    "        # --- End --- #\n",
    "        x,y,h=extractWindows(newGray)\n",
    "        if (x != -1):\n",
    "            frame=applyCartoonization(frame, x,y,h)\n",
    "        # //// ---> Show Frame <--- //// #\n",
    "        frame=cv.cvtColor(frame, cv.COLOR_RGB2BGR)\n",
    "        cv.imshow('frame', frame)     \n",
    "        # --- End --- #\n",
    "        \n",
    "        #exit\n",
    "        if cv.waitKey(1)& 0xFF==ord('q'):\n",
    "            break\n",
    "        \n",
    "#cap.realse()\n",
    "cv.destroyAllWindows()\n",
    "cap.release()      \n",
    "\n",
    "# //////// <====> End <====> //////// #"
   ]
  },
  {
   "cell_type": "code",
   "execution_count": null,
   "metadata": {},
   "outputs": [],
   "source": []
  }
 ],
 "metadata": {
  "kernelspec": {
   "display_name": "Python 3 (ipykernel)",
   "language": "python",
   "name": "python3"
  },
  "language_info": {
   "codemirror_mode": {
    "name": "ipython",
    "version": 3
   },
   "file_extension": ".py",
   "mimetype": "text/x-python",
   "name": "python",
   "nbconvert_exporter": "python",
   "pygments_lexer": "ipython3",
   "version": "3.9.7"
  }
 },
 "nbformat": 4,
 "nbformat_minor": 4
}
