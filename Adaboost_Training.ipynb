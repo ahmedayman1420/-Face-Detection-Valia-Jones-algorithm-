{
 "cells": [
  {
   "cell_type": "code",
   "execution_count": null,
   "metadata": {
    "id": "0ne7Sb1gX043"
   },
   "outputs": [],
   "source": [
    "import numpy as np\n",
    "import skimage.io as io\n",
    "from skimage.transform import resize\n",
    "import random\n",
    "import os\n",
    "from functools import partial\n",
    "import progressbar\n",
    "from multiprocessing import Pool\n",
    "from IPython.core.display import Image, display\n",
    "from haar_features import *\n",
    "from intagral_image import *\n",
    "from Adaboost import *\n",
    "\n",
    "LOADING_BAR_LENGTH = 50\n"
   ]
  },
  {
   "cell_type": "code",
   "execution_count": null,
   "metadata": {
    "id": "ArAaqj1mlHQs"
   },
   "outputs": [],
   "source": [
    "pos_training_path = 'trainingdata/faces'\n",
    "neg_training_path = 'trainingdata/nonfaces'\n",
    "pos_testing_path = 'trainingdata/faces/test'\n",
    "neg_testing_path = 'trainingdata/nonfaces/test'\n"
   ]
  },
  {
   "cell_type": "code",
   "execution_count": null,
   "metadata": {
    "colab": {
     "base_uri": "https://localhost:8080/"
    },
    "id": "qhBd7Y4RlKGz",
    "outputId": "2b996af3-5661-485b-bb19-ce211f0bceb7"
   },
   "outputs": [],
   "source": [
    "print('Loading faces for training..')\n",
    "faces_training = load_images(pos_training_path, trainingmax=400)\n",
    "faces_ii_training = list(map(integral_image, faces_training))\n",
    "print('..done. ' + str(len(faces_training)) + ' faces loaded.\\n\\nLoading non faces..')\n",
    "non_faces_training = load_images(neg_training_path, trainingmax=600)\n",
    "non_faces_ii_training = list(map(integral_image, non_faces_training))\n",
    "print('..done. ' + str(len(non_faces_training)) + ' non faces loaded.\\n')\n",
    "\n",
    "print('Loading faces for testing..')\n",
    "faces_testing = load_images(pos_testing_path,testmax=60,istest=True)\n",
    "faces_ii_testing = list(map(integral_image, faces_testing))\n",
    "print('..done. ' + str(len(faces_testing)) + ' faces loaded.\\n\\nLoading test non faces..')\n",
    "non_faces_testing = load_images(neg_testing_path,testmax=60, istest=True)\n",
    "non_faces_ii_testing = list(map(integral_image, non_faces_testing))\n",
    "print('..done. ' + str(len(non_faces_testing)) + ' non faces loaded.\\n')"
   ]
  },
  {
   "cell_type": "code",
   "execution_count": null,
   "metadata": {},
   "outputs": [],
   "source": [
    "num_classifiers = 100\n",
    "min_feature_height = 6\n",
    "max_feature_height = 14\n",
    "min_feature_width = 6\n",
    "max_feature_width = 14"
   ]
  },
  {
   "cell_type": "code",
   "execution_count": null,
   "metadata": {
    "colab": {
     "base_uri": "https://localhost:8080/",
     "height": 207
    },
    "id": "uL0_udcMlMh4",
    "outputId": "e725bd65-a8d3-411d-fc5a-bba3d50344e4"
   },
   "outputs": [],
   "source": [
    "#get best haar features classifers\n",
    "classifiers = learn(faces_ii_training, non_faces_ii_training, num_classifiers, min_feature_width, max_feature_width, min_feature_height, max_feature_height)"
   ]
  },
  {
   "cell_type": "code",
   "execution_count": null,
   "metadata": {
    "id": "Miv0iIf3lmzC"
   },
   "outputs": [],
   "source": [
    "print('Testing selected classifiers..')\n",
    "correct_faces = 0\n",
    "correct_non_faces = 0\n",
    "correct_faces = sum(ensemble_vote_all(faces_ii_testing, classifiers))\n",
    "correct_non_faces = len(non_faces_testing) - sum(ensemble_vote_all(non_faces_ii_testing, classifiers))\n",
    "\n",
    "print('..done.\\n\\nResult:\\n      Faces: ' + str(correct_faces) + '/' + str(len(faces_testing))\n",
    "      + '  (' + str((float(correct_faces) / len(faces_testing)) * 100) + '%)\\n  non-Faces: '\n",
    "      + str(correct_non_faces) + '/' + str(len(non_faces_testing)) + '  ('\n",
    "      + str((float(correct_non_faces) / len(non_faces_testing)) * 100) + '%)')"
   ]
  },
  {
   "cell_type": "code",
   "execution_count": null,
   "metadata": {
    "id": "4IB3Auzg6hP7"
   },
   "outputs": [],
   "source": [
    "file = open('classifiersData3.txt', 'w')\n",
    "for c in classifiers:\n",
    "  file.write(str(c.type)[17:]+'\\n')\n",
    "  file.write(str(c.topLeft[0])+'\\n')\n",
    "  file.write(str(c.topLeft[1])+'\\n')\n",
    "  file.write(str(c.width)+'\\n')\n",
    "  file.write(str(c.height)+'\\n')\n",
    "  file.write(str(c.threshold)+'\\n')\n",
    "  file.write(str(c.parity)+'\\n')\n",
    "file.close()  "
   ]
  },
  {
   "cell_type": "code",
   "execution_count": null,
   "metadata": {},
   "outputs": [],
   "source": []
  }
 ],
 "metadata": {
  "accelerator": "GPU",
  "colab": {
   "collapsed_sections": [],
   "name": "Adaboost_Training.ipynb",
   "provenance": []
  },
  "kernelspec": {
   "display_name": "Python 3",
   "language": "python",
   "name": "python3"
  },
  "language_info": {
   "codemirror_mode": {
    "name": "ipython",
    "version": 3
   },
   "file_extension": ".py",
   "mimetype": "text/x-python",
   "name": "python",
   "nbconvert_exporter": "python",
   "pygments_lexer": "ipython3",
   "version": "3.8.8"
  }
 },
 "nbformat": 4,
 "nbformat_minor": 1
}
